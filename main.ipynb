{
 "cells": [
  {
   "cell_type": "code",
   "execution_count": 15,
   "metadata": {},
   "outputs": [],
   "source": [
    "import ctypes\n",
    "class My_new_list:\n",
    "    def __init__(self):\n",
    "        self.size = 1 # size of the actual array\n",
    "        self.n = 0 #number of elements\n",
    "        #creating an array with size = silf.size\n",
    "        self.A = self.__make_array(self.size)\n",
    "\n",
    "    def __len__(self):\n",
    "        #this function will give us the length of the list\n",
    "        return self.n\n",
    "    \n",
    "    def append(self,item):\n",
    "        if self.size ==self.n:\n",
    "           self.__resize(self.size*2)\n",
    "           #here we will resize the array\n",
    "        self.A[self.n] = item\n",
    "        self.n += 1\n",
    "\n",
    "    def clear(self):\n",
    "        self.n = 0\n",
    "        self.size = 1\n",
    "\n",
    "    def pop(self):\n",
    "        if self.n ==0:\n",
    "            return \"Empty list!!\"\n",
    "        print(\"The item getting popped is:\",self.A[self.n-1])\n",
    "        self.n -= 1\n",
    "\n",
    "    def insert(self,pos,item):\n",
    "        if self.size ==self.n:\n",
    "           self.__resize(self.size*2)\n",
    "        for i in range(self.n, pos,-1):\n",
    "            self.A[i] = self.A[i-1]\n",
    "        self.A[pos] = item\n",
    "        self.n+=1\n",
    "\n",
    "    def __resize(self,new_capacity):\n",
    "        #creating a new array b\n",
    "        B = self.__make_array(new_capacity)\n",
    "        self.size = new_capacity\n",
    "        #copying B to A \n",
    "        for i in range(self.n):\n",
    "            B[i] = self.A[i]\n",
    "            # reassigning Self.A\n",
    "        self.A = B\n",
    "        \n",
    "    def __str__(self):\n",
    "        result = \"\"\n",
    "        for i in range(self.n):\n",
    "            result = result + str(self.A[i]) + \",\"\n",
    "        return \"[\" +result[:-1] + \"]\"\n",
    "    \n",
    "    def __getitem__(self,index):\n",
    "        if 0<= index < self.n:\n",
    "            return self.A[index]\n",
    "        else: \n",
    "            return \"Enter a valid index\"\n",
    "        \n",
    "    def __delitem__(self,pos):\n",
    "\n",
    "        if (0 <= pos < self.n):\n",
    "            for i in range(pos,(self.n-1)):\n",
    "                self.A[i] = self.A[i+1]\n",
    "            self.n -=1\n",
    "        else: \n",
    "            print(\"Enter a valid index\")\n",
    "\n",
    "        \n",
    "    def find(self,item):\n",
    "        for i in range(self.n):\n",
    "            if item == self.A[i]:\n",
    "                return i\n",
    "        return \"ValueError - not in list\"\n",
    "        #This fn will give the index of the given element\n",
    "        \n",
    "    def remove(self,item):\n",
    "        the_index = self.find(item)\n",
    "        if type(the_index) == int:\n",
    "            self.__delitem__(the_index)\n",
    "\n",
    "        else:\n",
    "            return the_index\n",
    "\n",
    "        \n",
    "    def __make_array(self,capacity):\n",
    "        # creating a ctpye array (static and referential) having size capacity\n",
    "        return(capacity*ctypes.py_object)()\n",
    "\n",
    "   \n",
    "  "
   ]
  },
  {
   "cell_type": "code",
   "execution_count": 16,
   "metadata": {},
   "outputs": [],
   "source": [
    "#demonstration\n",
    "list1 = My_new_list()"
   ]
  },
  {
   "cell_type": "code",
   "execution_count": 17,
   "metadata": {},
   "outputs": [],
   "source": [
    "list1.append(2345)\n",
    "list1.append(\"hi\")                                "
   ]
  },
  {
   "cell_type": "code",
   "execution_count": 18,
   "metadata": {},
   "outputs": [],
   "source": [
    "list1.insert(1,'i feel')\n",
    "list1.append(\"prooo\")\n",
    "list1.append(\"heroic\")"
   ]
  },
  {
   "cell_type": "code",
   "execution_count": 19,
   "metadata": {},
   "outputs": [
    {
     "name": "stdout",
     "output_type": "stream",
     "text": [
      "[2345,i feel,hi,prooo,heroic]\n"
     ]
    }
   ],
   "source": [
    "print(list1)"
   ]
  },
  {
   "cell_type": "code",
   "execution_count": 20,
   "metadata": {},
   "outputs": [],
   "source": [
    "list1.remove(\"prooo\")"
   ]
  },
  {
   "cell_type": "code",
   "execution_count": 21,
   "metadata": {},
   "outputs": [
    {
     "name": "stdout",
     "output_type": "stream",
     "text": [
      "[2345,i feel,hi,heroic]\n"
     ]
    }
   ],
   "source": [
    "print(list1)"
   ]
  }
 ],
 "metadata": {
  "kernelspec": {
   "display_name": "Python 3",
   "language": "python",
   "name": "python3"
  },
  "language_info": {
   "codemirror_mode": {
    "name": "ipython",
    "version": 3
   },
   "file_extension": ".py",
   "mimetype": "text/x-python",
   "name": "python",
   "nbconvert_exporter": "python",
   "pygments_lexer": "ipython3",
   "version": "3.13.0"
  }
 },
 "nbformat": 4,
 "nbformat_minor": 2
}
